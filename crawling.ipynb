{
 "cells": [
  {
   "cell_type": "code",
   "execution_count": 4,
   "metadata": {},
   "outputs": [],
   "source": [
    "from selenium import webdriver\n",
    "from selenium.webdriver.chrome.service import Service\n",
    "from webdriver_manager.chrome import ChromeDriverManager\n",
    "\n",
    "import time\n",
    "from urllib.request import urlretrieve\n",
    "from selenium.webdriver.common.keys import Keys\n",
    "from selenium.webdriver.common.by import By\n",
    "import pandas as pd"
   ]
  },
  {
   "cell_type": "code",
   "execution_count": 2,
   "metadata": {},
   "outputs": [],
   "source": [
    "chrome_path ='./chromedriver_mac64/chromedriver'"
   ]
  },
  {
   "cell_type": "code",
   "execution_count": 5,
   "metadata": {},
   "outputs": [
    {
     "name": "stderr",
     "output_type": "stream",
     "text": [
      "[WDM] - Downloading: 100%|██████████| 8.29M/8.29M [00:01<00:00, 6.80MB/s]\n"
     ]
    }
   ],
   "source": [
    "driver = webdriver.Chrome(service=Service(ChromeDriverManager().install()))\n",
    "driver.get('http://seoulillustrationfair.co.kr/gallery/')\n",
    "driver.implicitly_wait(3)\n",
    "\n",
    "# browser = driver.find_element(By.NAME, \"q\")\n",
    "# browser.send_keys('high resolution car')\n",
    "# browser.send_keys(Keys.RETURN)"
   ]
  },
  {
   "cell_type": "code",
   "execution_count": 6,
   "metadata": {},
   "outputs": [],
   "source": [
    "def selenium_scroll_option():\n",
    "    SCROLL_PAUSE_SEC = 3\n",
    "    \n",
    "    last_height = driver.execute_script(\"return document.body.scrollHeight\")\n",
    "    \n",
    "    while True:\n",
    "        driver.execute_script(\"window.scrollTo(0, document.body.scrollHeight);\")\n",
    "\n",
    "        time.sleep(SCROLL_PAUSE_SEC)\n",
    "\n",
    "        new_height = driver.execute_script(\"return document.body.scrollHeight\")\n",
    "    \n",
    "        if new_height == last_height:\n",
    "            break\n",
    "        last_height = new_height"
   ]
  },
  {
   "cell_type": "code",
   "execution_count": 21,
   "metadata": {},
   "outputs": [],
   "source": [
    "# selenium_scroll_option()\n",
    "\n",
    "# images = driver.find_elements(By.CSS_SELECTOR, \"#main > div > div:nth-child(1)\")\n",
    "# images[0].click()\n",
    "\n",
    "#main > div > div:nth-child(1)\n",
    "#main > div > div:nth-child(2)\n",
    "#main > div > div:nth-child(764)\n",
    "#main > section > div > div.wpforms-container > div:nth-child(1)\n",
    "lst = []\n",
    "for i in range(1, 765):\n",
    "    image = driver.find_elements(By.CSS_SELECTOR, f\"#main > div > div:nth-child({i})\")\n",
    "    image[0].click()\n",
    "    time.sleep(1)\n",
    "    name = driver.find_elements(By.CSS_SELECTOR, f\"#main > section > div > div.wpforms-container > div:nth-child(1)\")\n",
    "    email = driver.find_elements(By.CSS_SELECTOR, f\"#main > section > div > div.wpforms-container > div.profile-container > div.profile-content > div.contact > div.contact-body > div:nth-child(1)\")\n",
    "    lst.append(list((name[0].text, email[0].text)))\n",
    "    driver.back()\n",
    "    time.sleep(1)\n",
    "# for i in images[:90]:\n",
    "#      if i.get_attribute('src') != None:\n",
    "#           images_url.append(i.get_attribute('src'))\n",
    "#      else:\n",
    "#           images_url.append(i.get_attribute('data-src'))\n",
    "\n",
    "# driver.close()\n",
    "\n",
    "# print(f\"전체 다운로드한 이미지 개수: {len(images_url)}\\n동일한 이미지를 제거한 이미지 개수: {len(pd.DataFrame(images_url)[0].unique())}\")\n",
    "# images_url=pd.DataFrame(images_url)[0].unique()"
   ]
  },
  {
   "cell_type": "code",
   "execution_count": 22,
   "metadata": {},
   "outputs": [
    {
     "name": "stdout",
     "output_type": "stream",
     "text": [
      "[['[쭈꾸리 X 쥬빠커플] (쥬빠커플)', 'jsbee0310@naver.com'], ['0.1', 'hellochujing@me.com'], ['0.98PAGE', '098page1001@gmail.com'], ['0925', '0925.illust@gmail.com'], ['115room', '115room@naver.com'], ['2 beans (몽상거북)', 'laurenhan.illust@gmail.com'], ['28홀리몰리', '28hollymolly@gmail.com'], ['2an.', ''], ['ACOO', 'acooroom@naver.com'], ['amongbi', 'amongbi@naver.com'], ['Anxiety and Kimbap', 'AnxietyandKimbap@gmail.com'], ['APARIS STUDIO', 'illust.aparis@gmail.com'], ['APOC', 'cake@apoc.day'], ['avocagoh', 'avocagoh.sarah@gmail.com'], ['BAD MANSION', 'badmansion1@gmail.com'], ['BANSHURA', 'banshura@naver.com'], ['BBM', 'babybluemars@naver.com'], ['Berry Winkle', 'Berrywinkle_@outlook.com'], ['BEYA', 'beyapanicha@gmail.com'], ['Birdyan', 'Yyammyy@naver.com'], ['BlueBlurryMonday', 'blueblurrymonday@gmail.com'], ['Bo Yoon', 'boyoonbo@gmail.com'], ['bodle', 'bodle2015@naver.com'], ['BOOBOO.png', 'Booboo.pnggg@naver.com'], ['Booger Garden', 'boogergarden@gmail.com'], ['BOTAVITA', 'anian56@naver.com'], ['BOTAVITA(LEE JI SOOK)', 'skaut20@naver.com'], ['BoxBox(Sungwon Jo)', 'boxfacelab@gmail.com@gmail.com'], ['Buddhaandz', 'buddhaandz@gmail.com'], ['BURI', 'mailto_minji@naver.com'], ['Byul', 'byul1113@naver.com'], ['caper', 'caper.kr@gmail.com'], [\"CARAN D'ACHE\", 'carandache@waytrading.com'], ['CEE', ''], ['Cheesefrice', 'cheesefrice@gmail.com'], ['CHEROK', 'ysun_85@naver.com'], ['CHOOSY ABOUT', 'choosy-about@naver.com'], ['design me', 'corsagee@naver.com'], ['Dini', '9416_0_@naver.com'], ['dmadameb', 'dmadameb@gmail.com'], ['doeun', 'asdz7878@naver.com'], ['DOGU DAILY', 'dogudaily@gmail.com'], ['DORANG', 'dorang413@naver.com'], ['Dusty Lyke', 'lykedust0106@gmail.com'], ['EB', 'joob@hanmail.net'], ['ee yeoreum', 'ee_yeoreume@gmail.com'], ['Ernho', 'djsgh1130@naver.com'], ['friends tory', 'roh12@naver.com'], ['gaga', 'gagapuppy20@gmail.com'], ['GapN studio', 'gapnstudio@gmail.com'], ['gemma', 'kongju911@naver.com'], ['Gianne Encarnacion / pngianne', 'giincarnacion@gmail.com'], ['Goodmatestore', 'goodmate.supplies@gmail.com'], ['greenut', 'greenut90@naver.com'], ['HAEMOON', 'dhgudans123@naver.com'], ['HAGO', 'hago_art@naver.com'], ['HEE@HEAD(HEEJA)', 'rhuheeja@gmail.com'], ['HEE@HEAD(MOUSE HEAD)', 'apluse3@naver.com'], ['HIRO', 'sulat1171@gmail.com'], ['Hn.U', 'artisthnu@gmail.com'], ['INGNYAAA', 'ingnyaaa@gmail.com'], ['InkSundae', 'hello@inksundae.com'], ['JAGUARTREE', 'jaguartree29@gmail.com'], ['Jean Kuah', 'mochibuddies@gmail.com'], ['Jeongha', 'eyecandy0000@naver.com'], ['Jii', 'jiiground@gmail.com'], ['Jimmy aaja', 'jimmyaaja@gmail.com'], ['JOURNEY', 'journey7045@naver.com'], ['Kama Arts', 'kamilawojciechowicz91@gmail.com'], ['KIKI QUOKKA', 'mese_ppeeeu@mese.co.kr'], ['kimgordelga', 'domanggamoi@gmail.com'], ['kimhachan', 'kimhachan.ajw@naver.com'], ['LDstudio', 'dkim@LDstudio.kr'], ['leetok', ''], ['Léo Virieu', 'leo.virieu@gmail.com'], ['Licar', 'licar_g@naver.com'], ['Lilly', 'euiji1542@gmail.com'], ['LUCKY POCKY', 'lucky_pocky@naver.com'], ['Marci Delfin', 'marcidelfin@gmail.com'], ['Marie-Caroline Terenne', 'mrkr.trn@gmail.com'], ['Meegong', 'sleepwakepain@naver.com'], ['MeMiann Studio', 'memiann.studio@gmail.com'], ['merry_hye', 'o_merry_hye@naver.com'], ['Mía Studio', 'miaandmina19@gmail.com'], ['MING JU', 'minju20601@gmail.com'], ['MIRAM', 'josette@naver.com'], ['Mitoboru.Club', ''], ['miu', ''], ['MIYU', 'rachelhwang82@gmail.com'], ['MODABI', 'dyfltk147@naver.com'], ['MSRY_STATIONERY (RACHEL YANG)', 'msrystudio@gmail.com'], ['Mstandforc', 'mstandforc@gmail.com'], ['Narsid', 'muhammadnarsid@naver.com'], ['nattier', 'nattier@naver.com'], ['NAYAMII', 'kimgaebul@gmail.com'], ['NEON.PASTELL', 'mint_0_0@naver.com'], ['NICE JOKE THERE', 'swj770@naver.com'], ['NYH', ''], ['O-SEAN', 'osean01@o-sean.io'], ['Oigu', 'from529@naver.com'], ['Ori', 'oriandyou75@naver.com'], ['Palim', 'pine_3.14@hotmail.com'], ['pangtoopool', 'blueseed82@naver.com'], ['PAPER GOODS BY DORIE', 'papergoodshk@gmail.com'], ['PEPPERMILL', 'yl2384@naver.com'], ['PILOT', ''], ['PlumTree', 'good_sketch@naver.com'], ['PROJECT 0803 (mindobi)', 'mduckvely@naver.com'], ['PROJECT 0803 (Seongki)', 'Seongki@naver.com'], ['Purpletoooth', 'h1255pm@gmail.com'], ['RIKKI', 'rikki3778@naver.com'], ['Rin Jirajakkavan', 'rin.jakkavan@gmail.com'], ['ruiit', 'ruiitloveit@gmail.com'], ['Saemipictures', 'toalppina@gmail.com'], [\"saleign's lair\", 'saleign@naver.com'], ['secrecy', 'seeyou@comocc.com'], ['SHINB', 'paon_blue@naver.com'], ['Silent Yellow(개날)', 'skys9551@gmail.com'], ['sindo87', 'zio3210@naver.com'], ['Smiletime', 'smiletimestudio.official@gmail.com'], ['smool', 'smool17@naver.com'], ['Something Pleasant Studio', 'somethingpleasantstudio@gmail.com'], ['soo', 'ssp04178@naver.com'], ['Soo_K', 'ksyhehe@gmail.com'], ['stuffedheart_veinstring', 'stuffedheart_v@hotmail.com'], ['Sunshine Summer', 'our.sunshine.summer@gmail.com'], ['suzu', 's.masunthasuwan@gmail.com'], ['Szé', 'smells.like.small@naver.com'], ['Tanakitta R. (Ma.flowering)', 'Maflowering@gmail.com'], ['The Pie In The Sky', 'Thepieinthesky.bradon@gmail.com'], ['the/eternal/summer', 'the.eternalsummer@gmail.com'], ['thebunmeo', ''], ['thui', 'tm.thuyng@gmail.com'], ['Toasty Towns', 'toastytowns@outlook.com'], ['tomorrowerr', ''], ['ToyArch', 'cherubb@naver.com'], ['TROUBLELOOK', 'iamtroublelook@gmail.com'], ['ttiony', 'ttiony22@naver.com'], ['UKO DRAGON', 'ssunh0526@naver.com'], ['uni POSCA', 'mpckr@mpuni.co.kr'], ['VAC', 'vaczunxoo@naver.com'], ['WAVISM', 'kyr090498@naver.com'], ['weshould', 'self-8@hanmail.net'], ['wonhee_artwork', 'leewonhi90@icloud.com'], ['XPPen(엑스피펜)', 'xppen-korea@naver.com'], ['yand', 'lond126@naver.com'], ['ye-a/예아', 'yekyungart@gmail.com'], ['YooN', 'only789@naver.com'], ['yoonjii7', 'yoonjin22e@naver.com'], ['Young Eun Shin', 'imyoungeunshin@naver.com'], ['zbath', 'yukyda@naver.com'], ['zeonminwoo', 'jmw0626@naver.com'], ['Zoonii', 'illu_junny@naver.com'], ['감성품앗이', 'non-duleong@daum.net'], ['갓찌', ''], ['개구리라미', 'frogrami@naver.com'], ['개굴티비', 'bbo731@naver.com'], ['개니', 'mazzigaeni@naver.com'], ['갤러리 우갱', 'jjun9572@gmail.com'], ['거의', 'hanna8577@naver.com'], ['검은모래숲', 'junhooindra@naver.com'], ['고고좋담', 'break_hj@naver.com'], ['고두리', 'godoori_illust@naver.com'], ['고라니', 'lanihosue@naver.com'], ['고마쭈', 'matsugoda@gmail.com@naver.com'], ['고서다', 'flyingquail@naver.com'], ['고양이다방', 'catdabang@gmail.com'], ['고요', 'ywon6113@gmail.com'], ['고운그림(GOWOONGRIM)', 'c_gowoon@naver.com'], ['곤상 / Gon3', 'gomin.comic@gmail.com'], ['곰곰e', 'kjyekf@naver.com'], ['곰지', ''], ['공은혜 (마음모자)', 'gongsme@naver.com'], ['광스웍스', 'khkimkl1@naver.com'], ['구냥이', 'ninehy84@naver.com'], ['그노', 'guno9716@naver.com'], ['그라미', 'yn05660@naver.com'], ['그렁그렁단', 'flluuee2112@naver.com'], ['그리니에브리데이', 'greenyeveryday@naver.com'], ['그리다', 'juajun@naver.com'], ['그리자매(shinsy)', 'shinsy9013@gmail.com'], ['그린당시각연구소(쏭이)', 'kioruneco@gmail.com'], ['그림그리는 에이치', 'huii@naver.com'], ['근화동396', '396center@gmail.com'], ['글시', 'geulsi.1129@gmail.com'], ['글씨쓰는 아현', 'dkgus7524@naver.com'], ['기우제', 'rainritual135008@gmail.com'], ['기티', 'jumsick1983@naver.com'], ['긴숨', 'su_um@naver.com'], ['김그림', 'eringreemkim@gmail.com'], ['김단발', 'hikimdanbal@gmail.com'], ['김도르', 'tmfrl2593@naver.com'], ['김듀오', 'howowduo@naver.com'], ['김디어', 'dear_216@naver.com'], ['김땡땡', 'kswh97@gmail.com'], ['김래곤', 'kimlaegon911@naver.com'], ['김룰루', 'osiriri0105@naver.com'], ['김미나', 'milkbell29@naver.com'], ['김민희', 'lifespice_more@naver.com'], ['김봄', 'kbom23@naver.com'], ['김소은(로사)', 'aracee@naver.com'], ['김숑', 'joyjusyong@naver.com'], ['김슬아', 'mojkimsa@naver.com'], ['김쐥', 'kimsswang@gmail.com'], ['김연주', 'hey.goomworld@gmail.com'], ['김짠누', 'kimjjannu@gmail.com'], ['김콘치', 'kimconch@naver.com'], ['김효정', 'drawing_hj@naver.com'], ['김흔흔', 'day.of.heunheun@gmail.com'], ['까막북 (DOWON)', 'dottkwon@gmail.com'], ['까시즈', 'dudwktl9905@naver.com'], ['꼬시나', 'jojo960404@naver.com'], ['꼬치토치', 'koccitocci@naver.com'], ['꽃타래', 'kotale_@naver.com'], ['뀨카월드', 'thekop1234@naver.com'], ['끄적홍시', 's_hongsi@naver.com'], ['나라노', 'narano0902@gmail.com'], ['나래끼', 'hinarlang@naver.com'], ['나봉', 'naa_bong@naver.com'], ['나비봉봉', 'younggyulee@gmail.com'], ['나예', 'dpsk_007@naver.com'], ['나요', 'nayoillustration@naver.com'], ['낙서인', 'nakseoin@gmail.com'], ['낫레이지', 'chocosonge_illust@naver.com'], ['내일클로버', 'makegoodlife@naver.com'], ['냐냐온 스튜디오', 'nyanyaon.k@gmail.com'], ['네버더레스', 'neverthelessstudio@naver.com'], ['녜녜', 'nyenye.owo@gmail.com'], ['노리와 함께', 'jiwon1116@naver.com'], ['노마', 'nomadic0503@gmail.com'], ['노페이퍼', 'parfum25@naver.com'], ['누들두들킴', 'noodle3885@naver.com'], ['누리', 'noorie.watercolours@gmail.com'], ['누비토리', '2mons2@naver.com'], ['누아', 'nuaname@naver.com@naver.com'], ['눈곰이', 'nungomi.official@gmail.com'], ['눙눙이', 'nungnunge8@gmail.com'], ['늘랑', 'donglehe@naver.com'], ['늘빛', 'bomnae.calligraphy@gmail.com'], ['니드', 'zero523@naver.com'], ['다소금 (Dasogum)', 'dasogum@naver.com'], ['다운', 'bella0713@naver.com'], ['다혜', 'ziozio111@gmail.com'], ['다홍', 'dahoong.ing@gmail.com'], ['단비', 'i_like_danbi@naver.com'], ['단빵', 'se_world@naver.com'], ['단츄', 'danchu.retro@gmail.com'], ['단콩이와 친구들', 'dankong2@naver.com'], ['달', 'dallyum@naver.com'], ['달나영', 'dalnayoung@naver.com'], ['달사이로', 'studiodal42@gmail.com'], ['달콤별', 'muffinbaba@naver.com'], ['담장아래', 'damjang.alae@gmail.com'], ['대충이와 삥삥이 (김겨자)', 'ksh_6563@naver.com'], ['대충이와 삥삥이 (삥작가)', '100soopang@naver.com'], ['더여린', 'yeolyn3n@gmail.com'], ['더푸리 빌리지', 'thepuri_village@naver.com'], ['데일리 람팜', 'gmltnrla316@naver.com'], ['델리랜드', 'dallyland@naver.com'], ['뎀버', 'demva@naver.com'], ['도구리', '644@ncsoft.com'], ['도나와 친구들', 'donnandeco@naver.com'], ['도너리', 'doneorydoneory@gmail.com'], ['도라지', 'frogjem@naver.com'], ['도송', 'jdosong@naver.com'], ['도아마', 'paperonep@naver.com'], ['도혜드로잉', 'doe_hye@naver.com'], ['동그라미', '000719jin@naver.com'], ['듀박스', 'dooduzi0927@naver.com'], ['드리', 'iamdliidlii@gmail.com'], ['드리미 제이', 'dreamy02@naver.com'], ['디위드', ''], ['딸비', 'biuebll@naver.com'], ['땡규', 'anj80v@naver.com'], ['떵찌', 'ddungzzi_toon@naver.com'], ['또롱별', 'ideatami@naver.com'], ['또림', 'tjswjd75201@gmail.com'], ['또마또', 'thfl6543@naver.com'], ['똘차', 'ttolcha@naver.com'], ['뚜뚜', ''], ['뚜바비앙', 'tout_va_bien11@naver.com'], ['뚝섬로13길38 (프로젝트희희)', 'heehee.work@gmail.com'], ['뚠냥이', 'parkalice@naver.com'], ['띵똥', 'bbongsun0926@naver.com'], ['라르고(라나)', 'raeun_n@naver.com'], ['라르고(양미영)', 'illust_ymy@naver.com'], ['라르고(제제)', 'yodel_jeje@naver.com'], ['라운드영', 'round_young@naver.com'], ['라일락', 'likera_design@naver.com'], ['람니버스', 'ramniverse@naver.com'], ['람지', 'yeji0958@naver.com'], ['러브미모어', 'love_oi1117@naver.com'], ['레니안', 'rednian@naver.com'], ['레터에잇', 'letter8studio@naver.com'], ['로야마드', 'roya@royamad.com'], ['로원', 'rowoninart@gmail.com'], ['룡자까네', 'dhfyddhfyd@naver.com'], ['루키나라', 'jw824@naver.com'], ['루피쉬스튜디오', 'atdoldesign@gmail.com'], ['류굿', 'ryoojh90@gmail.com'], ['류승우', 'areslineart@gmail.com'], ['르소', 'rsseau@naver.com'], ['리나&국밥', 'clerye@naver.com'], ['리나&국밥(국밥)', 'm_nananibee@naver.com'], ['리니', 'xoxo_rini@naver.com'], ['리니앤쯔니 (린짱)', 'blingd_acc@naver.com'], ['리니앤쯔니(쯔니)', 'rad931212@naver.com'], ['리디', 'lidy0@naver.com'], ['리벳', 'libet92@naver.com'], ['리빙앤라이프', 'come112212@gmail.com'], ['리아리', 'lialee010411@gmail.com'], ['리틀캣스튜디오', 'lilcat_studio@naver.com'], ['리페', 'ryepe@naver.com'], ['마넷', 'manet1987@naver.com'], ['마린스노우', 'arum25@naver.com'], ['마부', 'mabootoon@naver.com'], ['마이그리미(my grimmi)', 'najisu1128@nate.com'], ['만다린 스튜디오', 'mandarinstudio@naver.com'], ['말감', 'malgam@naver.com'], ['맘마', 'lechance7@naver.com'], ['망치', 'journey.hjh@gmail.com'], ['망카우', 'mangcowc@gmail.com'], ['맥시', 'mxx025@naver.com'], ['맹글도어', 'mangledoor_@naver.com'], ['머픈즈', 'muppenz@naver.com'], ['먹는빵', 'zzinp70@naver.com'], ['먹선', 'dlqm7894@gmail.com'], ['먹이사슬(모호형)', ''], ['먹이사슬(피넛박)', 'peanut.bahc@gmail.com'], ['멋진동', 'mutjindong22@gmail.com'], ['멍토끼', 'muung002@naver.com'], ['메로', 'minju1420@naver.com'], ['메이인유', 'jiin_yu@naver.com'], ['멜로', 'hi_mello@naver.com'], ['멜로', 'marsh-mellow@naver.com'], ['멜앤로디', 'melandlody@melandlody.com'], ['모난베어', 'monanbear@naver.com'], ['모도리', ''], ['모래 빌리지', '000dmswl@naver.com'], ['모로하나', 'gnl5028@naver.com'], ['모아노리', ''], ['모카스튜디오', 'moon@smileworks.co.kr'], ['몬스터훌라후프', 'm423cat@naver.com'], ['몽량밤', 'hi_summerblue@naver.com'], ['몽지네언니', 'tjgus1599@naver.com'], ['몽진', 'mongjinart@gmail.com'], ['묘재', 'miojae@naver.com'], ['묘한량', 'hipazpaz@hanmail.net'], ['무룩이', 'mo_orugi@naver.com'], ['문소', 'moonso.illust@gmail.com'], ['문준수', 'mjs1469@gmail.com'], ['므끄므끄', '25rus@naver.com'], ['믕아', 'kimeunah12312@gmail.com'], ['미노', ''], ['미뉴', 'anfrhrl92@naver.com'], ['미니', 'ch0924oi@naver.com'], ['미선', 'anmis9012@gmail.com'], ['미스터도리', 'mrdori_studio@naver.com'], ['미야오타운', 'sienahan00@gmail.com'], ['미운돼지', 'thou777@naver.com'], ['민들레', 'jin7247244@naver.com'], ['민이젤', 'min_easel@naver.com'], ['민트썸머', 'mintsummer6@gmail.com'], ['민화작가 해루', 'yuyann@naver.com'], ['밀림 MilliM', ''], ['밍다람그림일기', 'mings_box@naver.com'], ['바나일러스트', 'bananatobi@naver.com'], ['바랜', 'nonamroom@naver.com'], ['바램', 'hannas98028@gmail.com'], ['바켠', '8kx_zi@naver.com'], ['박교빈(쿄쿄)', 'qkrryqls1404@naver.com'], ['박산하', 'qkrtksgk@naver.com'], ['박유나', 'dayuna2@gmail.com'], ['반곱실', 'curlyorcurly@gmail.com'], ['반마X영재영 (반마)', 'dmsduddb135@naver.com'], ['밤바', 'studio_bamba@naver.com'], ['방새미', 'bangsaemee@gmail.com'], ['방솜', 'bangsom@naver.com@naver.com'], ['배배', 'baezzi91@gmail.com'], ['배츗츄', 'pre0429@naver.com'], ['백구십칠', 'no_197@naver.com'], ['백산', 'Team.Ukaive@gmail.com'], ['백십포챈(110V)', 'yangsb98@gmail.com'], ['백십포챈(챈)', 'chaeann417@naver.com'], ['버블럼', 'bubblum@naver.com'], ['보다', 'rew0114@gmail.com'], ['보라달토끼', 'kimsuenne@gmail.com'], ['복치', 'bokchee__@naver.com'], ['봄구름일러스트', 'trbg@naver.com'], ['봄녀', 'marchbean@naver.com'], ['봄하루그림', 'haruca7@naver.com'], ['봉스튜디오', 'bongstudio.kr@gmail.com'], ['부루', 'joeunhae411@naver.com'], ['부엉이가그림', 'oceanal@naver.com'], ['브라보브레드클럽', 'bravo_bread_club@naver.com'], ['블랑이네아트샵', 'jungsu324@naver.com'], ['비비비 메이트', 'nameisdeep@naver.com'], ['비수프', 'rainsoup4679@naver.com'], ['비야크라프트', 'newluv0313@hanmail.net'], ['비주얼스토리텔러', 'visteller@naver.com'], ['빛나는순간 박정원', 'delightpaper@naver.com'], ['빠르크가비', 'gabiinside@naver.com'], ['빨간고래', 'jaillust@naver.com'], ['뽀시래기 꾸름', 'kkureumm@gmail.com'], ['뾰롱이', 'kkj24449@naver.com'], ['사서', 'saseo.art@gmail.com'], ['사심굿즈', 'contact@sasimgoods.com'], ['사요', ''], ['사이', 'saisaesai@naver.com'], ['산타월드', 'santaworld1225@gmail.com'], ['살랑', 'sallang0413@naver.com'], ['새벽 달조각', 'qweasdweasd@naver.com'], ['새벽세시 서세', ''], ['샌드밀리', 'ohhaeunnice@naver.com'], ['샌드위치페이퍼', 'sandwichpaper.official@gmail.com'], ['샤호툰', 'shahocat@gmail.com'], ['서린', 'seorin960921@naver.com'], ['서성', 'its_ss@naver.com'], ['서울예술대학교 시각디자인전공', ''], ['서윤', '@naver.com'], ['서코때', 'cyzhsldk@naver.com'], ['서희', 'lisya@naver.com'], ['선민주', 'minjusun@gmail.com'], ['선우현승', 'sssunwooo@gmail.com'], ['설예린', 'drawrin7@gmail.com'], ['세라베어', 'omil-zomil@naver.com'], ['센야, senya', 'heredana2015@gmail.com'], ['소금툰', 'studiosaltd@naver.com'], ['소다맛', 'sodaflavor.k@gmail.com'], ['소랏', ''], ['소만', '000soman000@gmail.com'], ['소소히히', 'soso_hehe@naver.com'], ['소월생', 'sowalsaeng@naver.com'], ['손비누', 'son_binu@naver.com'], ['솔리온', 'solion08@naver.com'], ['솔바람', 'solsol-wind@naver.com'], ['솔하트', 'solhart@naver.com'], ['솜', 'illust_som@naver.com'], ['솜두', ''], ['송나봄', 'songnabom@naver.com'], ['송현지', 'hyunji7946@naver.com'], ['수빈', 'ssu_binne@naver.com'], ['수수한마켓', 'haram3003@naver.com'], ['수연한', 'im_suyeonn@naver.com'], ['수집가 무무', '1203mgmj@gmail.com'], ['수투키', 'sutwokyhouse@naver.com'], ['수프&테리(수프효과)', 'polaris576@naver.com'], ['수프&테리(테리)', 'soups666@gmail.com'], ['순심', 'bysoonsim@naver.com'], ['숨 & 호구홍시 조대봉 (숨)', 'sepoprjt@naver.com'], ['숨 & 호구홍시 조대봉 (호구홍시 조대봉)', 'hongsijo@naver.com'], ['숭곰이', 'alswn3655@naver.com'], ['쉬시턴', 'selynn.draws@gmail.com'], ['스누즈키튼즈', 'snoozekittens@gmail.com'], ['스마일리', 'smileyjo_35@naver.com'], ['스콘', 'scone_drawing@naver.com'], ['스튜디오 몽트리데이', 'montreedaystudio@gmail.com'], ['스튜디오 숢', 'swsw2937@naver.com'], ['스튜디오 퐁듀', 'studiofondue@naver.com'], ['스튜디오비비', 'sooyaim5@naver.com'], ['스튜디오푸룬', 'with.studioprune@naver.com'], ['슬그림', 'mcr_mh@naver.com'], ['슬로버니', 'minjun12080@gmail.com'], ['싕싕', 'herssssss@naver.com'], ['시루미', 'mushroom0077@naver.com'], ['식스먼스베를리너', 'odoice2@naver.com'], ['신우 마스킹테이프', 'ilovetape.mt@gmail.com'], ['쌍님', 'ssangnim00@naver.com'], ['쌍님', 'ssangnim00@naver.com'], ['썸머메론', 'summer_j0@naver.com'], ['썸캣츠', 'somecats831@naver.com'], ['쏭', '11771101544@naver.com'], ['아라리', 'arari.official@gmail.com'], ['아레아레아', 'light-supil@naver.com'], ['아르냥', 'ghabin@naver.com'], ['아르테코', 'sykarte@naver.com'], ['아린', 'ethermimas@naver.com'], ['아마도', 'hyunmaybe16@gmail.com'], ['아바로떼스베', 'abarrotes.b@outlook.com'], ['아베크듀_수영', 'danisep@naver.com'], ['아빈', 'dudqls3507@gmail.com'], ['아이스홍시', 'bijuku84@naver.com'], ['아일랜두', ''], ['아코', 'xas2kox@gmail.com'], ['아콘찌', 'acornzzi.art@gmail.com'], ['아토', 'atoandfriends@gmail.com'], ['아토&반디', 'hongjo_studio@naver.com'], ['아홉시바니', 'lamydomichri@naver.com'], ['알파색채(주)', 'info@alphacolor.com'], ['애뽈', 'bbalgan00@naver.com'], ['애옹즈', 'eh_ongs@kakao.com'], ['애프터눈치', 'afternoonch@naver.com'], ['액옹스클럽', 'eastl94@kakao.com'], ['앨리캣 프렌즈', 'alleycat.friends@gmail.com'], ['야금이', 'leeyageum@gmail.com'], ['양덕이네', 'yangban_duck@naver.com'], ['양치', 'sudde_e@naver.com'], ['어글리큐트', 'uglycute.on@gmail.com'], ['어니니', 'kakao.com@naver.com'], ['어오문방구', 'tkdgns1933@naver.com'], ['어제', '0tjfgkrdud0@naver.com'], ['어쩔문구', 'sowhatmungu@naver.com'], ['어텀프루츠', 'byukhae2@naver.com'], ['언클리어페이퍼', 'unclearpaper@gmail.com'], ['엄마꽁', 'byed@naver.com'], ['엄스캣치', 'umsncats@gmail.com'], ['에델바이스', 'hjeongcho124@gmail.com'], ['에디_이다영', 'edy325@naver.com'], ['에브리데이위켄드 (몽잉 夢ing)', 'youngah@naver.com'], ['에브리데이위켄드(세러데이무드)', 'youngji@everydayweekend.co.kr'], ['에이리', 'yeahyereal@naver.com'], ['에이욥 프로젝트', 'ayobproject@naver.com'], ['엔쵸', 'ncho299@naver.com'], ['엘라와 털양말', 'ksdavin@naver.com'], ['엘렌', 'rosanna1033@gmail.com'], ['엘리드로잉', 'elley_drawing@naver.com'], ['엥기', ''], ['여름밤', 'yujacha29@gmail.com'], ['여송', 'yeosong.yoon.art@gmail.com'], ['연더랜드', 'jeongloveletter92@naver.com'], ['열매', 'easil03@naver.com'], ['영리', 'youngleedraws@gmail.com'], ['영재영', 'conure01@naver.com'], ['영주 KANGCONO', '0080200@naver.com'], ['예또샵', 'yerinjj99@naver.com'], ['예란', 'myeongran330@gmail.com'], ['예스위아', 'official.yesweare@gmail.com'], ['오건호', 'moonn6pense@naver.com'], ['오들오들', 'oddle_oddle@naver.com'], ['오로시', 'orosi.illust@gmail.com'], ['오마이리틀', 'dungbee64@gmail.com'], ['오백이', 'soo144025@naver.com'], ['오식이', 'designmill_bang_a_di@naver.com'], ['오월로', 'ohwolo05@gmail.com'], ['오지큐 주식회사', 'commerce@ogqcorp.com'], ['오찌데이', 'kdy03036@naver.com'], ['오키키', 'yeye1125@naver.com'], ['옴살바', 'omsalbaartwork@gmail.com'], ['와랑와랑스튜디오', 'jjjjo_h@naver.com'], ['와우프레스(주)', 'wow_press@naver.com'], ['왕과나무', 'kingntree@naver.com'], ['요마혼', 'yomahon@naver.com'], ['요안나', 'anna2518@naver.com'], ['요운', 'ye_oun_@naver.com'], ['요일', 'yoyil.official@gmail.com'], ['욘욘', 'wedding83@naver.com'], ['용꾸', 'chang4chang16@gmail.com'], ['우거진', 'forestedmrwoo@gmail.com'], ['우니', 'vjuui@naver.com'], ['우아이', 'ooaifriends@naver.com'], ['우울희', 'woowooree@naver.com'], ['웅크린선인장', 'lazygogetter@naver.com'], ['웨', 'dlsfpdl2927@naver.com'], ['위드마이캡틴', ''], ['위리이야기', ''], ['위시랜드', 'saduc@naver.com'], ['윈원', 'winwon_n@naver.com'], ['윙윙', 'were9431@naver.com'], ['윝판타', 'withphantasia@naver.com'], ['유노', 'std.unoh@gmail.com'], ['유디', 'hyun23yu@naver.com'], ['유리', '0_0b123@naver.com'], ['유미어스', ''], ['유아오', 'uaouu@naver.com'], ['유재이', 'yoojaei2019@gmail.com'], ['유진 서머콕', 'peanutbutterbanana715@gmail.com'], ['윤그림', 'dbswn0501@naver.com'], ['윤넛', 'yoonnut3@gmail.com'], ['윤성', 'nadaeng330@naver.com'], ['윤식이', 'yooonsik@gmail.com'], ['윤에디션', 'yunedition@gmail.com'], ['윤잼', 'jaemin4890@naver.com'], ['율리 Yulri', 'yulbaeee@gmail.com'], ['으나네작업실', 'eunas27@naver.com'], ['은유현', 'lorina8001@naver.com'], ['은혜로은 식사', 'wwkdywwkdy@gmail.com'], ['은혜로은 식사(로은)', 'rnrkrnrk93@naver.com'], ['은환', 'ehwann48@gmail.com'], ['응아', 'dear_eunga@naver.com'], ['이거니', 'estel713@naver.com'], ['이릇', 'yi_leut@naver.com'], ['이민수', 'ourmiky2@naver.com'], ['이삼', 'qnrrmrro@naver.com'], ['이유진', 'coconut_99@naver.com'], ['이응씨', 'iam_ololoc@naver.com'], ['이장', 'dextrosecandy@gmail.com'], ['이정은', 'yestogod@nate.com'], ['이종(ejong)', 'ejongcokr@naver.com'], ['이지로움', 'easyroum@gmail.com'], ['이현미', 'selpi33@naver.com'], ['이혜진', 'glpwls@gmail.com'], ['인륜', 'inryun@naver.com'], ['인사이터 스튜디오', 'studio@insighter.co.kr'], ['일러스트레이터 조선진', 'greenapple615@hanmail.net'], ['일삼이의 방', 'roomof13@gmail.com'], ['임밍', 'rupert0307@naver.com'], ['임시출장 (나준흠)', 'najun99@gmail.com'], ['임욤', 'yomuri0530@naver.com'], ['자꾸다꾸', 'zaccudaccu@naver.com'], ['자호&뎀버', 'jahossi@naver.com'], ['작은 역동성', 'sitso@naver.com'], ['잔보', 'calmbolang@naver.com'], ['장동규', 'donggyuyes@naver.com'], ['장혜수', 'jangguriguri@naver.com'], ['저녁', 'eunhyeok0929@naver.com'], ['전국다꾸협회', 'nolzagom@gmail.com'], ['전유리', 'joenyuri0502@naver.com'], ['전재곤', 'kamesushi0918@gmail.com'], ['전필화', 'pilhwa0@naver.com'], ['점선면', 'basicfigure.03@gmail.com'], ['정뱅', 'jbrawing@naver.com'], ['정아리', 'lucy3113@naver.com'], ['정원재', 'eonix99@hanmail.net'], ['정인경', 'namumaeum@naver.com'], ['제이다람', 'kangwonjoong221@gmail.com'], ['제주냥이', 'y_bread@naver.com'], ['졔닝', 'monochrojin@naver.com'], ['조네(JORNE)', 'jorne70819@gmail.com'], ['조승두(뚜뚜)', ''], ['조용한 오리', 'drawing.ori@gmail.com'], ['조이', 'hidinary@naver.com'], ['조파', 'potluckattic@naver.com'], ['졸리지 스튜디오', 'jollygeestudio@naver.com'], ['종이달빛', 'designtp@naver.com'], ['주솜', 'jusom_s_@naver.com'], ['준그림', 'jungreem92@gmail.com'], ['준영', 'kodo2571@naver.com'], ['쥬륵이', 'studio_yang@naver.com'], ['즈세', 'fffiesta@naver.com'], ['지구해', 'dasigachi@naver.com'], ['지모와삽', 'zeemo_t@naver.com'], ['지쑤', 'jeesoopark.design@gmail.com'], ['지원', 'lj556457@naver.com'], ['지이니', 'pengsoonhi@gmail.com'], ['지지본부', 'zeezii2ho@gmail.com'], ['지지스튜디오', 'zizi-studio@naver.com'], ['직업인A', 'heavyworkera@gmail.com'], ['진영예술가', 'jinyoungmotion@gmail.com'], ['진진', 'jinjin_ah@naver.com'], ['집에만있는 귤', 'gyu1_gyu1@naver.com'], ['집토끼호미네', 'zip_homy@naver.com'], ['징구의 일기장', 'luna_d@naver.com'], ['쩨링', 'jjering@naver.com'], ['쩨작가', 'jje_studio@naver.com'], ['쪼꼬미캣', 'jjokkomicat@naver.com'], ['쪼야', 'zzoya0209@gmail.com'], ['쪼작가', '1575302@naver.com'], ['쭈꾸리 X 쥬빠커플(쭈꾸리)', 's6h8@naver.com'], ['쭈롱', 'leeju5525@naver.com'], ['쭈쭈해', 'wdog111@naver.com'], ['찌드로잉', 'zzi_drawing@naver.com'], ['찌바', 'dongdong@zziba.co.kr'], ['차냐', ''], ['차일드후드 메모리즈', ''], ['찹스타', 'yuliyuli@naver.com'], ['채온', 'chaeoonn@gmail.com'], ['청야', 'blue9tstory@gmail.com'], ['체리블로섬', ''], ['체리픽', ''], ['초랑', 'chorang84@naver.com'], ['초록땅', 'a_i_y@naver.com'], ['초롱이와 하나님', 'chorongandjesus@naver.com'], ['최유정', 'ikaga0@naver.com'], ['츄비', 'i4p@kakao.com'], ['치유', 'ohklove82@naver.com'], ['칠삼이일디자인', 'CS@7321.co.kr'], ['칡차', 'lechael@naver.com'], ['카이스트 넙죽이', 'nubzuki@kaist.ac.kr'], ['캐릭터공작소 망치', 'newthisstart@naver.com'], ['커피 스튜디오', 'ton0110@naver.com'], ['케토', 'ketocactus0v0@gmail.com'], ['코랄트리', 'coral_tree@naver.com'], ['콘찌두잇', 'cornzzzi0124@naver.com'], ['콤마비', 'commab@naver.com'], ['쿠나 & 달봉 (달봉)', 'moonstick_999@naver.com'], ['쿠나&달봉', 'cuna12@naver.com'], ['쿠레욤', 'cureyom@naver.com'], ['쿠잉', 'jee0325_@naver.com'], ['쿤', 'happy04026@naver.com'], ['퀴어젤리', 'cnomonc@gmail.com'], ['퀸지', 'quenzyart@naver.com'], ['크레용토끼', 'crayonrabbit8@gmail.com'], ['크리티컬프렌즈 x 트윙클즈딜리버리', ''], ['키치머치', 'kitutttuu@gmail.com'], ['킴제잉스튜디오', 'gch22@naver.com'], ['탭탭탑탑 & 마냥', 'bongbongus@naver.com'], ['테구테구 그림일기', 'sanghun1203@gmail.com'], ['테일 투 테일', 'tail_to_tail@naver.com'], ['테히', 'ltehi@naver.com'], ['토메이', 'tomaytravel@gmail.com'], ['토티', 'lanaq@naver.com'], ['투디 (TWO DI)', 'gkstnwl032@naver.com'], ['튜스투스 (도피왕)', 'w_wang@naver.com'], ['파가당', ''], ['파머스', 'kogi777@naver.com'], ['파카인', 'pacainn@gmail.com'], ['파티로드', ''], ['팡이', 'pang2_com@naver.com'], ['퍼플 샤', 'vashsanzo@gmail.com'], ['펜화백작', 'yeonchuchu@naver.com'], ['포글포글', 'pogle21@naver.com'], ['포노멀', '1980phj@naver.com'], ['포레 오두막', 'foretst@naver.com'], ['포솜', 'shffjdhktjdu@naver.com'], ['포에티코', 'poeticokr@gmail.com'], ['푸니타운', 'yeoni305@naver.com'], ['푸르름디자인', 'kongpureum@gmail.com'], ['푸름', 'pureumpupu@gmail.com'], ['풀가', 'fullga@naver.com'], ['프롬', 'fromdream0714@gmail.com'], ['프롬이레', 'fromireh@naver.com'], ['프링코', 'pringco@pringco.com'], ['프몽', 'rwdlln07@naver.com'], ['플레이도나', 'playdona23@gmail.com'], ['피크닉 스튜디오', 'thdl5759@naver.com'], ['핑루', 'pinkrue_@naver.com'], ['하꼬방', 'hakkobang.ingyo@gmail.com'], ['하난', 'hahnan19@gmail.com'], ['하다', 'chj7181@naver.com'], ['하란스튜디오', 'haranstudio@naver.com'], ['하미', 'gosari666@naver.com'], ['하슈랜드', 'hasyuland@naver.com'], ['하트쉽 스튜디오', 'heartsheep@naver.com'], ['한다니', ''], ['한림사', 'komazon3@naver.com'], ['한여름', 'midsummer1611@naver.com'], ['한페이지', 'hanpage_@naver.com'], ['함조이', 'joi_maker@naver.com'], ['해그리.몽', 'lilians1@naver.com'], ['해별', ''], ['해티프로젝트', 'hattyproject@naver.com'], ['해피바이러스단', ''], ['해피트럭', 'info.happytruck@gmail.com'], ['핸짱', 'lxxhyeonsin@naver.com'], ['행아 HANG', 'ihangdesign@gmail.com'], ['헤이잭', 'heyjack2022@naver.com'], ['헬로 헤일로', 'im.halo.0725@gmail.com'], ['혠투디오', 'yhi2835@naver.com'], ['호박경', 'hobakkyeong@naver.com'], ['호작', 'lugere22@gmail.com'], ['호작', 'ghstoragegh@gmail.com'], ['호지', 'dxdx_fol@naver.com'], ['호치코리', 'varesto@naver.com'], ['호퓨', 'hannahuu@naver.com'], ['홀베인 코리아 주식회사', 'info@holbein.kr'], ['홍구마', 'hongguma96@naver.com'], ['홍지', 'hong_obba@naver.com'], ['\\x08효나조각집', 'jkong0033@naver.com'], ['효뚠', 'mozziji2017@naver.com'], ['후아에디션', 'hae_0803@naver.com'], ['후츄', 'who_chyu@naver.com'], ['후카후카스튜디오', 'hookkahookkastudio@naver.com'], ['휴더휴먼', 'hansally95@naver.com'], ['흔우', ''], ['흰 종이에 달이 스치운다', 'ggomi95@naver.com'], ['히영', 'ticklyheee0@gmail.com'], [': : 누크하우스 : :', 'nukhouse@naver.com'], ['(주)디앤씨웹툰비즈', 'csj@dncwebtoonbiz.com'], ['(주)미젤로', 'mijellodesign@naver.com'], ['(주)삼원특수지', ''], ['(주)서흥아트', 'happy@seoheung.co.kr'], ['(주)위츠', 'info@witz.ai'], ['(주)지구화학', ''], ['(주)진앤진커뮤니케이션', 'wisdom@jinnjin.com']]\n"
     ]
    }
   ],
   "source": [
    "print(lst)"
   ]
  },
  {
   "cell_type": "code",
   "execution_count": 23,
   "metadata": {},
   "outputs": [
    {
     "data": {
      "text/html": [
       "<div>\n",
       "<style scoped>\n",
       "    .dataframe tbody tr th:only-of-type {\n",
       "        vertical-align: middle;\n",
       "    }\n",
       "\n",
       "    .dataframe tbody tr th {\n",
       "        vertical-align: top;\n",
       "    }\n",
       "\n",
       "    .dataframe thead th {\n",
       "        text-align: right;\n",
       "    }\n",
       "</style>\n",
       "<table border=\"1\" class=\"dataframe\">\n",
       "  <thead>\n",
       "    <tr style=\"text-align: right;\">\n",
       "      <th></th>\n",
       "      <th>0</th>\n",
       "      <th>1</th>\n",
       "    </tr>\n",
       "  </thead>\n",
       "  <tbody>\n",
       "    <tr>\n",
       "      <th>0</th>\n",
       "      <td>[쭈꾸리 X 쥬빠커플] (쥬빠커플)</td>\n",
       "      <td>jsbee0310@naver.com</td>\n",
       "    </tr>\n",
       "    <tr>\n",
       "      <th>1</th>\n",
       "      <td>0.1</td>\n",
       "      <td>hellochujing@me.com</td>\n",
       "    </tr>\n",
       "    <tr>\n",
       "      <th>2</th>\n",
       "      <td>0.98PAGE</td>\n",
       "      <td>098page1001@gmail.com</td>\n",
       "    </tr>\n",
       "    <tr>\n",
       "      <th>3</th>\n",
       "      <td>0925</td>\n",
       "      <td>0925.illust@gmail.com</td>\n",
       "    </tr>\n",
       "    <tr>\n",
       "      <th>4</th>\n",
       "      <td>115room</td>\n",
       "      <td>115room@naver.com</td>\n",
       "    </tr>\n",
       "    <tr>\n",
       "      <th>...</th>\n",
       "      <td>...</td>\n",
       "      <td>...</td>\n",
       "    </tr>\n",
       "    <tr>\n",
       "      <th>759</th>\n",
       "      <td>(주)삼원특수지</td>\n",
       "      <td></td>\n",
       "    </tr>\n",
       "    <tr>\n",
       "      <th>760</th>\n",
       "      <td>(주)서흥아트</td>\n",
       "      <td>happy@seoheung.co.kr</td>\n",
       "    </tr>\n",
       "    <tr>\n",
       "      <th>761</th>\n",
       "      <td>(주)위츠</td>\n",
       "      <td>info@witz.ai</td>\n",
       "    </tr>\n",
       "    <tr>\n",
       "      <th>762</th>\n",
       "      <td>(주)지구화학</td>\n",
       "      <td></td>\n",
       "    </tr>\n",
       "    <tr>\n",
       "      <th>763</th>\n",
       "      <td>(주)진앤진커뮤니케이션</td>\n",
       "      <td>wisdom@jinnjin.com</td>\n",
       "    </tr>\n",
       "  </tbody>\n",
       "</table>\n",
       "<p>764 rows × 2 columns</p>\n",
       "</div>"
      ],
      "text/plain": [
       "                       0                      1\n",
       "0    [쭈꾸리 X 쥬빠커플] (쥬빠커플)    jsbee0310@naver.com\n",
       "1                    0.1    hellochujing@me.com\n",
       "2               0.98PAGE  098page1001@gmail.com\n",
       "3                   0925  0925.illust@gmail.com\n",
       "4                115room      115room@naver.com\n",
       "..                   ...                    ...\n",
       "759             (주)삼원특수지                       \n",
       "760              (주)서흥아트   happy@seoheung.co.kr\n",
       "761                (주)위츠           info@witz.ai\n",
       "762              (주)지구화학                       \n",
       "763         (주)진앤진커뮤니케이션     wisdom@jinnjin.com\n",
       "\n",
       "[764 rows x 2 columns]"
      ]
     },
     "execution_count": 23,
     "metadata": {},
     "output_type": "execute_result"
    }
   ],
   "source": [
    "df = pd.DataFrame(lst)\n",
    "df.columns = []"
   ]
  },
  {
   "cell_type": "code",
   "execution_count": 26,
   "metadata": {},
   "outputs": [],
   "source": [
    "df.to_csv('file1.csv')"
   ]
  },
  {
   "cell_type": "code",
   "execution_count": 6,
   "metadata": {},
   "outputs": [],
   "source": [
    "import pandas as pd\n",
    "df = pd.read_csv('file.csv', index_col=0)\n",
    "# df.to_csv('file_encoded.csv', encoding='utf-8')\n",
    "# df.drop('')\n",
    "df.to_csv('file3.csv', encoding='utf-8-sig')"
   ]
  },
  {
   "cell_type": "code",
   "execution_count": null,
   "metadata": {},
   "outputs": [],
   "source": [
    "for i in range(1, 765):\n",
    "    image = driver.find_elements(By.CSS_SELECTOR, f\"#main > div > div:nth-child({i})\").click()\n",
    "    "
   ]
  },
  {
   "cell_type": "code",
   "execution_count": 6,
   "metadata": {},
   "outputs": [],
   "source": [
    "for idx, url in enumerate(images_url, start = 18):\n",
    "    urlretrieve(url, '/Users/wooseoknam/Desktop/CAR/car_' + str(idx) + '.jpg')"
   ]
  },
  {
   "cell_type": "code",
   "execution_count": null,
   "metadata": {},
   "outputs": [],
   "source": []
  }
 ],
 "metadata": {
  "kernelspec": {
   "display_name": "myvenv",
   "language": "python",
   "name": "python3"
  },
  "language_info": {
   "codemirror_mode": {
    "name": "ipython",
    "version": 3
   },
   "file_extension": ".py",
   "mimetype": "text/x-python",
   "name": "python",
   "nbconvert_exporter": "python",
   "pygments_lexer": "ipython3",
   "version": "3.10.9"
  },
  "orig_nbformat": 4
 },
 "nbformat": 4,
 "nbformat_minor": 2
}
